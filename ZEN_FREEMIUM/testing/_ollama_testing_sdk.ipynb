{
 "cells": [
  {
   "cell_type": "code",
   "execution_count": null,
   "metadata": {},
   "outputs": [],
   "source": [
    "import asyncio\n",
    "import ollama\n"
   ]
  },
  {
   "cell_type": "code",
   "execution_count": 5,
   "metadata": {},
   "outputs": [],
   "source": [
    "client = ollama.AsyncClient()"
   ]
  },
  {
   "cell_type": "code",
   "execution_count": null,
   "metadata": {},
   "outputs": [
    {
     "name": "stdout",
     "output_type": "stream",
     "text": [
      "Available models:\n",
      "- model='qwen3:1.7b' modified_at=datetime.datetime(2025, 5, 27, 11, 34, 2, 140572, tzinfo=TzInfo(+01:00)) digest='458ce03a21878025d072b8740d0e0e3b34abec3585fdadb0b5ab92d1e85dfb61' size=1359293203 details=ModelDetails(parent_model='', format='gguf', family='qwen3', families=['qwen3'], parameter_size='2.0B', quantization_level='Q4_K_M')\n",
      "- model='codellama:latest' modified_at=datetime.datetime(2025, 5, 25, 14, 20, 53, 711605, tzinfo=TzInfo(+01:00)) digest='8fdf8f752f6e80de33e82f381aba784c025982752cd1ae9377add66449d2225f' size=3825910662 details=ModelDetails(parent_model='', format='gguf', family='llama', families=None, parameter_size='7B', quantization_level='Q4_0')\n",
      "- model='phi3:mini' modified_at=datetime.datetime(2025, 5, 24, 19, 44, 11, 990643, tzinfo=TzInfo(+01:00)) digest='4f222292793889a9a40a020799cfd28d53f3e01af25d48e06c5e708610fc47e9' size=2176178913 details=ModelDetails(parent_model='', format='gguf', family='phi3', families=['phi3'], parameter_size='3.8B', quantization_level='Q4_0')\n",
      "- model='codellama:7b-instruct' modified_at=datetime.datetime(2025, 5, 24, 18, 39, 58, 529033, tzinfo=TzInfo(+01:00)) digest='8fdf8f752f6e80de33e82f381aba784c025982752cd1ae9377add66449d2225f' size=3825910662 details=ModelDetails(parent_model='', format='gguf', family='llama', families=None, parameter_size='7B', quantization_level='Q4_0')\n",
      "- model='phi4-mini-reasoning:latest' modified_at=datetime.datetime(2025, 5, 15, 12, 22, 15, 835592, tzinfo=TzInfo(+01:00)) digest='3ca8c2865ce91b6be853a25e56edfefa4f473db55a391611989b753ecf0fa419' size=3152479391 details=ModelDetails(parent_model='', format='gguf', family='phi3', families=['phi3'], parameter_size='3.8B', quantization_level='Q4_K_M')\n",
      "- model='nomic-embed-text:latest' modified_at=datetime.datetime(2025, 5, 15, 11, 19, 52, 140256, tzinfo=TzInfo(+01:00)) digest='0a109f422b47e3a30ba2b10eca18548e944e8a23073ee3f3e947efcf3c45e59f' size=274302450 details=ModelDetails(parent_model='', format='gguf', family='nomic-bert', families=['nomic-bert'], parameter_size='137M', quantization_level='F16')\n",
      "- model='mxbai-embed-large:latest' modified_at=datetime.datetime(2025, 5, 15, 11, 5, 36, 395744, tzinfo=TzInfo(+01:00)) digest='468836162de7f81e041c43663fedbbba921dcea9b9fefea135685a39b2d83dd8' size=669615493 details=ModelDetails(parent_model='', format='gguf', family='bert', families=['bert'], parameter_size='334M', quantization_level='F16')\n"
     ]
    }
   ],
   "source": [
    "models = await client.list()\n",
    "\n",
    "print(\"Available models:\")\n",
    "for model in models['models']:\n",
    "    print(f\"- {model}\")"
   ]
  },
  {
   "cell_type": "code",
   "execution_count": 9,
   "metadata": {},
   "outputs": [
    {
     "name": "stdout",
     "output_type": "stream",
     "text": [
      "The sky appears blue to us due to a phenomenon called Rayleigh scattering. When sunlight reaches Earth'an atmosphere, it interacts with molecules and small particles in the air. Sunlight consists of different colors that correspond to various wavelengths of light. Shorter wavelengths (blue) are scattered more efficiently by these tiny atmospheric particulates than longer wavelengths like red or yellow because they travel as smaller, shorter waves; this scattering process spreads the blue light in many directions and when we look towards the sun, our line of sight passes through a greater volume of atmosphere where it has been scattered. Hence, with more direct path being taken by blues rays from different parts at higher angles around the horizon to us than other colors during daytime under clear sky conditions, this is why Earth's sky appears predominantly blue most of time while sun is up.\n",
      "\n",
      "\n",
      "The effect diminishes towards twilight (before dawn) when there’s less contrast between direct and scattered light due to lower sun altitude in the sky - hence skies turn from a bright or darker shade depending on whether it's daytime, dusk/dawn or night but never green. Also note that at noontime both red and blue could appear nearly equally intense since all colors of sunlight are scattered through Earth's atmosphere before reaching our eyes (though the sky would still likely look more white than any specific color).\n",
      "\n",
      "\n",
      "If you ever wondered why clouds don’t make us see a bluish hue, that's because they act like tiny mirrors reflecting all colors of light back towards the Sun instead of scattering them. Additionally, when there are particles or pollutants in greater amounts (like dust from desert storms), sky might appear more orange/red as shorter blue and green wavelength get absorbed by these larger particulates while longer red rays gets scattered lesser but still reaches our eyes along with the backscattered sunlight.\n",
      "\n",
      "\n",
      "Finally, at nighttime when Earth's surface is in darkness due to absence of direct solar light reaching it; skies appear dark as there isn’t enough scattering for us see blue hues and star lights are visible only if they pass through clear or cloudless atmospheres without being scattered.\n"
     ]
    }
   ],
   "source": [
    "response = await client.generate('phi3:mini', 'Why is the sky blue?')\n",
    "print(response['response'])"
   ]
  },
  {
   "cell_type": "markdown",
   "metadata": {},
   "source": [
    "# Tooling "
   ]
  },
  {
   "cell_type": "code",
   "execution_count": 14,
   "metadata": {},
   "outputs": [
    {
     "name": "stdout",
     "output_type": "stream",
     "text": [
      "Model pull status: success\n"
     ]
    }
   ],
   "source": [
    "response = await client.pull('qwen3:1.7b')\n",
    "print(f\"Model pull status: {response['status']}\")"
   ]
  },
  {
   "cell_type": "code",
   "execution_count": 21,
   "metadata": {},
   "outputs": [
    {
     "name": "stdout",
     "output_type": "stream",
     "text": [
      "\n",
      "Model Manifest:\n",
      "Model: modified_at=datetime.datetime(2025, 5, 27, 11, 34, 2, 140572, tzinfo=TzInfo(+01:00)) template='{{- if .Messages }}\\n{{- if or .System .Tools }}<|im_start|>system\\n{{- if .System }}\\n{{ .System }}\\n{{- end }}\\n{{- if .Tools }}\\n\\n# Tools\\n\\nYou may call one or more functions to assist with the user query.\\n\\nYou are provided with function signatures within <tools></tools> XML tags:\\n<tools>\\n{{- range .Tools }}\\n{\"type\": \"function\", \"function\": {{ .Function }}}\\n{{- end }}\\n</tools>\\n\\nFor each function call, return a json object with function name and arguments within <tool_call></tool_call> XML tags:\\n<tool_call>\\n{\"name\": <function-name>, \"arguments\": <args-json-object>}\\n</tool_call>\\n{{- end }}<|im_end|>\\n{{ end }}\\n{{- range $i, $_ := .Messages }}\\n{{- $last := eq (len (slice $.Messages $i)) 1 -}}\\n{{- if eq .Role \"user\" }}<|im_start|>user\\n{{ .Content }}<|im_end|>\\n{{ else if eq .Role \"assistant\" }}<|im_start|>assistant\\n{{ if .Content }}{{ .Content }}\\n{{- else if .ToolCalls }}<tool_call>\\n{{ range .ToolCalls }}{\"name\": \"{{ .Function.Name }}\", \"arguments\": {{ .Function.Arguments }}}\\n{{ end }}</tool_call>\\n{{- end }}{{ if not $last }}<|im_end|>\\n{{ end }}\\n{{- else if eq .Role \"tool\" }}<|im_start|>user\\n<tool_response>\\n{{ .Content }}\\n</tool_response><|im_end|>\\n{{ end }}\\n{{- if and (ne .Role \"assistant\") $last }}<|im_start|>assistant\\n{{ end }}\\n{{- end }}\\n{{- else }}\\n{{- if .System }}<|im_start|>system\\n{{ .System }}<|im_end|>\\n{{ end }}{{ if .Prompt }}<|im_start|>user\\n{{ .Prompt }}<|im_end|>\\n{{ end }}<|im_start|>assistant\\n{{ end }}{{ .Response }}{{ if .Response }}<|im_end|>{{ end }}' modelfile='# Modelfile generated by \"ollama show\"\\n# To build a new Modelfile based on this, replace FROM with:\\n# FROM qwen3:1.7b\\n\\nFROM /Users/admin/.ollama/models/blobs/sha256-3d0b790534fe4b79525fc3692950408dca41171676ed7e21db57af5c65ef6ab6\\nTEMPLATE \"\"\"{{- if .Messages }}\\n{{- if or .System .Tools }}<|im_start|>system\\n{{- if .System }}\\n{{ .System }}\\n{{- end }}\\n{{- if .Tools }}\\n\\n# Tools\\n\\nYou may call one or more functions to assist with the user query.\\n\\nYou are provided with function signatures within <tools></tools> XML tags:\\n<tools>\\n{{- range .Tools }}\\n{\"type\": \"function\", \"function\": {{ .Function }}}\\n{{- end }}\\n</tools>\\n\\nFor each function call, return a json object with function name and arguments within <tool_call></tool_call> XML tags:\\n<tool_call>\\n{\"name\": <function-name>, \"arguments\": <args-json-object>}\\n</tool_call>\\n{{- end }}<|im_end|>\\n{{ end }}\\n{{- range $i, $_ := .Messages }}\\n{{- $last := eq (len (slice $.Messages $i)) 1 -}}\\n{{- if eq .Role \"user\" }}<|im_start|>user\\n{{ .Content }}<|im_end|>\\n{{ else if eq .Role \"assistant\" }}<|im_start|>assistant\\n{{ if .Content }}{{ .Content }}\\n{{- else if .ToolCalls }}<tool_call>\\n{{ range .ToolCalls }}{\"name\": \"{{ .Function.Name }}\", \"arguments\": {{ .Function.Arguments }}}\\n{{ end }}</tool_call>\\n{{- end }}{{ if not $last }}<|im_end|>\\n{{ end }}\\n{{- else if eq .Role \"tool\" }}<|im_start|>user\\n<tool_response>\\n{{ .Content }}\\n</tool_response><|im_end|>\\n{{ end }}\\n{{- if and (ne .Role \"assistant\") $last }}<|im_start|>assistant\\n{{ end }}\\n{{- end }}\\n{{- else }}\\n{{- if .System }}<|im_start|>system\\n{{ .System }}<|im_end|>\\n{{ end }}{{ if .Prompt }}<|im_start|>user\\n{{ .Prompt }}<|im_end|>\\n{{ end }}<|im_start|>assistant\\n{{ end }}{{ .Response }}{{ if .Response }}<|im_end|>{{ end }}\"\"\"\\nPARAMETER repeat_penalty 1\\nPARAMETER stop <|im_start|>\\nPARAMETER stop <|im_end|>\\nPARAMETER temperature 0.6\\nPARAMETER top_k 20\\nPARAMETER top_p 0.95\\nLICENSE \"\"\"                                 Apache License\\n                           Version 2.0, January 2004\\n                        http://www.apache.org/licenses/\\n\\n   TERMS AND CONDITIONS FOR USE, REPRODUCTION, AND DISTRIBUTION\\n\\n   1. Definitions.\\n\\n      \"License\" shall mean the terms and conditions for use, reproduction,\\n      and distribution as defined by Sections 1 through 9 of this document.\\n\\n      \"Licensor\" shall mean the copyright owner or entity authorized by\\n      the copyright owner that is granting the License.\\n\\n      \"Legal Entity\" shall mean the union of the acting entity and all\\n      other entities that control, are controlled by, or are under common\\n      control with that entity. For the purposes of this definition,\\n      \"control\" means (i) the power, direct or indirect, to cause the\\n      direction or management of such entity, whether by contract or\\n      otherwise, or (ii) ownership of fifty percent (50%) or more of the\\n      outstanding shares, or (iii) beneficial ownership of such entity.\\n\\n      \"You\" (or \"Your\") shall mean an individual or Legal Entity\\n      exercising permissions granted by this License.\\n\\n      \"Source\" form shall mean the preferred form for making modifications,\\n      including but not limited to software source code, documentation\\n      source, and configuration files.\\n\\n      \"Object\" form shall mean any form resulting from mechanical\\n      transformation or translation of a Source form, including but\\n      not limited to compiled object code, generated documentation,\\n      and conversions to other media types.\\n\\n      \"Work\" shall mean the work of authorship, whether in Source or\\n      Object form, made available under the License, as indicated by a\\n      copyright notice that is included in or attached to the work\\n      (an example is provided in the Appendix below).\\n\\n      \"Derivative Works\" shall mean any work, whether in Source or Object\\n      form, that is based on (or derived from) the Work and for which the\\n      editorial revisions, annotations, elaborations, or other modifications\\n      represent, as a whole, an original work of authorship. For the purposes\\n      of this License, Derivative Works shall not include works that remain\\n      separable from, or merely link (or bind by name) to the interfaces of,\\n      the Work and Derivative Works thereof.\\n\\n      \"Contribution\" shall mean any work of authorship, including\\n      the original version of the Work and any modifications or additions\\n      to that Work or Derivative Works thereof, that is intentionally\\n      submitted to Licensor for inclusion in the Work by the copyright owner\\n      or by an individual or Legal Entity authorized to submit on behalf of\\n      the copyright owner. For the purposes of this definition, \"submitted\"\\n      means any form of electronic, verbal, or written communication sent\\n      to the Licensor or its representatives, including but not limited to\\n      communication on electronic mailing lists, source code control systems,\\n      and issue tracking systems that are managed by, or on behalf of, the\\n      Licensor for the purpose of discussing and improving the Work, but\\n      excluding communication that is conspicuously marked or otherwise\\n      designated in writing by the copyright owner as \"Not a Contribution.\"\\n\\n      \"Contributor\" shall mean Licensor and any individual or Legal Entity\\n      on behalf of whom a Contribution has been received by Licensor and\\n      subsequently incorporated within the Work.\\n\\n   2. Grant of Copyright License. Subject to the terms and conditions of\\n      this License, each Contributor hereby grants to You a perpetual,\\n      worldwide, non-exclusive, no-charge, royalty-free, irrevocable\\n      copyright license to reproduce, prepare Derivative Works of,\\n      publicly display, publicly perform, sublicense, and distribute the\\n      Work and such Derivative Works in Source or Object form.\\n\\n   3. Grant of Patent License. Subject to the terms and conditions of\\n      this License, each Contributor hereby grants to You a perpetual,\\n      worldwide, non-exclusive, no-charge, royalty-free, irrevocable\\n      (except as stated in this section) patent license to make, have made,\\n      use, offer to sell, sell, import, and otherwise transfer the Work,\\n      where such license applies only to those patent claims licensable\\n      by such Contributor that are necessarily infringed by their\\n      Contribution(s) alone or by combination of their Contribution(s)\\n      with the Work to which such Contribution(s) was submitted. If You\\n      institute patent litigation against any entity (including a\\n      cross-claim or counterclaim in a lawsuit) alleging that the Work\\n      or a Contribution incorporated within the Work constitutes direct\\n      or contributory patent infringement, then any patent licenses\\n      granted to You under this License for that Work shall terminate\\n      as of the date such litigation is filed.\\n\\n   4. Redistribution. You may reproduce and distribute copies of the\\n      Work or Derivative Works thereof in any medium, with or without\\n      modifications, and in Source or Object form, provided that You\\n      meet the following conditions:\\n\\n      (a) You must give any other recipients of the Work or\\n          Derivative Works a copy of this License; and\\n\\n      (b) You must cause any modified files to carry prominent notices\\n          stating that You changed the files; and\\n\\n      (c) You must retain, in the Source form of any Derivative Works\\n          that You distribute, all copyright, patent, trademark, and\\n          attribution notices from the Source form of the Work,\\n          excluding those notices that do not pertain to any part of\\n          the Derivative Works; and\\n\\n      (d) If the Work includes a \"NOTICE\" text file as part of its\\n          distribution, then any Derivative Works that You distribute must\\n          include a readable copy of the attribution notices contained\\n          within such NOTICE file, excluding those notices that do not\\n          pertain to any part of the Derivative Works, in at least one\\n          of the following places: within a NOTICE text file distributed\\n          as part of the Derivative Works; within the Source form or\\n          documentation, if provided along with the Derivative Works; or,\\n          within a display generated by the Derivative Works, if and\\n          wherever such third-party notices normally appear. The contents\\n          of the NOTICE file are for informational purposes only and\\n          do not modify the License. You may add Your own attribution\\n          notices within Derivative Works that You distribute, alongside\\n          or as an addendum to the NOTICE text from the Work, provided\\n          that such additional attribution notices cannot be construed\\n          as modifying the License.\\n\\n      You may add Your own copyright statement to Your modifications and\\n      may provide additional or different license terms and conditions\\n      for use, reproduction, or distribution of Your modifications, or\\n      for any such Derivative Works as a whole, provided Your use,\\n      reproduction, and distribution of the Work otherwise complies with\\n      the conditions stated in this License.\\n\\n   5. Submission of Contributions. Unless You explicitly state otherwise,\\n      any Contribution intentionally submitted for inclusion in the Work\\n      by You to the Licensor shall be under the terms and conditions of\\n      this License, without any additional terms or conditions.\\n      Notwithstanding the above, nothing herein shall supersede or modify\\n      the terms of any separate license agreement you may have executed\\n      with Licensor regarding such Contributions.\\n\\n   6. Trademarks. This License does not grant permission to use the trade\\n      names, trademarks, service marks, or product names of the Licensor,\\n      except as required for reasonable and customary use in describing the\\n      origin of the Work and reproducing the content of the NOTICE file.\\n\\n   7. Disclaimer of Warranty. Unless required by applicable law or\\n      agreed to in writing, Licensor provides the Work (and each\\n      Contributor provides its Contributions) on an \"AS IS\" BASIS,\\n      WITHOUT WARRANTIES OR CONDITIONS OF ANY KIND, either express or\\n      implied, including, without limitation, any warranties or conditions\\n      of TITLE, NON-INFRINGEMENT, MERCHANTABILITY, or FITNESS FOR A\\n      PARTICULAR PURPOSE. You are solely responsible for determining the\\n      appropriateness of using or redistributing the Work and assume any\\n      risks associated with Your exercise of permissions under this License.\\n\\n   8. Limitation of Liability. In no event and under no legal theory,\\n      whether in tort (including negligence), contract, or otherwise,\\n      unless required by applicable law (such as deliberate and grossly\\n      negligent acts) or agreed to in writing, shall any Contributor be\\n      liable to You for damages, including any direct, indirect, special,\\n      incidental, or consequential damages of any character arising as a\\n      result of this License or out of the use or inability to use the\\n      Work (including but not limited to damages for loss of goodwill,\\n      work stoppage, computer failure or malfunction, or any and all\\n      other commercial damages or losses), even if such Contributor\\n      has been advised of the possibility of such damages.\\n\\n   9. Accepting Warranty or Additional Liability. While redistributing\\n      the Work or Derivative Works thereof, You may choose to offer,\\n      and charge a fee for, acceptance of support, warranty, indemnity,\\n      or other liability obligations and/or rights consistent with this\\n      License. However, in accepting such obligations, You may act only\\n      on Your own behalf and on Your sole responsibility, not on behalf\\n      of any other Contributor, and only if You agree to indemnify,\\n      defend, and hold each Contributor harmless for any liability\\n      incurred by, or claims asserted against, such Contributor by reason\\n      of your accepting any such warranty or additional liability.\\n\\n   END OF TERMS AND CONDITIONS\\n\\n   APPENDIX: How to apply the Apache License to your work.\\n\\n      To apply the Apache License to your work, attach the following\\n      boilerplate notice, with the fields enclosed by brackets \"[]\"\\n      replaced with your own identifying information. (Don\\'t include\\n      the brackets!)  The text should be enclosed in the appropriate\\n      comment syntax for the file format. We also recommend that a\\n      file or class name and description of purpose be included on the\\n      same \"printed page\" as the copyright notice for easier\\n      identification within third-party archives.\\n   Copyright 2024 Alibaba Cloud\\n   Licensed under the Apache License, Version 2.0 (the \"License\");\\n   you may not use this file except in compliance with the License.\\n   You may obtain a copy of the License at\\n       http://www.apache.org/licenses/LICENSE-2.0\\n   Unless required by applicable law or agreed to in writing, software\\n   distributed under the License is distributed on an \"AS IS\" BASIS,\\n   WITHOUT WARRANTIES OR CONDITIONS OF ANY KIND, either express or implied.\\n   See the License for the specific language governing permissions and\\n   limitations under the License.\"\"\"\\n' license='                                 Apache License\\n                           Version 2.0, January 2004\\n                        http://www.apache.org/licenses/\\n\\n   TERMS AND CONDITIONS FOR USE, REPRODUCTION, AND DISTRIBUTION\\n\\n   1. Definitions.\\n\\n      \"License\" shall mean the terms and conditions for use, reproduction,\\n      and distribution as defined by Sections 1 through 9 of this document.\\n\\n      \"Licensor\" shall mean the copyright owner or entity authorized by\\n      the copyright owner that is granting the License.\\n\\n      \"Legal Entity\" shall mean the union of the acting entity and all\\n      other entities that control, are controlled by, or are under common\\n      control with that entity. For the purposes of this definition,\\n      \"control\" means (i) the power, direct or indirect, to cause the\\n      direction or management of such entity, whether by contract or\\n      otherwise, or (ii) ownership of fifty percent (50%) or more of the\\n      outstanding shares, or (iii) beneficial ownership of such entity.\\n\\n      \"You\" (or \"Your\") shall mean an individual or Legal Entity\\n      exercising permissions granted by this License.\\n\\n      \"Source\" form shall mean the preferred form for making modifications,\\n      including but not limited to software source code, documentation\\n      source, and configuration files.\\n\\n      \"Object\" form shall mean any form resulting from mechanical\\n      transformation or translation of a Source form, including but\\n      not limited to compiled object code, generated documentation,\\n      and conversions to other media types.\\n\\n      \"Work\" shall mean the work of authorship, whether in Source or\\n      Object form, made available under the License, as indicated by a\\n      copyright notice that is included in or attached to the work\\n      (an example is provided in the Appendix below).\\n\\n      \"Derivative Works\" shall mean any work, whether in Source or Object\\n      form, that is based on (or derived from) the Work and for which the\\n      editorial revisions, annotations, elaborations, or other modifications\\n      represent, as a whole, an original work of authorship. For the purposes\\n      of this License, Derivative Works shall not include works that remain\\n      separable from, or merely link (or bind by name) to the interfaces of,\\n      the Work and Derivative Works thereof.\\n\\n      \"Contribution\" shall mean any work of authorship, including\\n      the original version of the Work and any modifications or additions\\n      to that Work or Derivative Works thereof, that is intentionally\\n      submitted to Licensor for inclusion in the Work by the copyright owner\\n      or by an individual or Legal Entity authorized to submit on behalf of\\n      the copyright owner. For the purposes of this definition, \"submitted\"\\n      means any form of electronic, verbal, or written communication sent\\n      to the Licensor or its representatives, including but not limited to\\n      communication on electronic mailing lists, source code control systems,\\n      and issue tracking systems that are managed by, or on behalf of, the\\n      Licensor for the purpose of discussing and improving the Work, but\\n      excluding communication that is conspicuously marked or otherwise\\n      designated in writing by the copyright owner as \"Not a Contribution.\"\\n\\n      \"Contributor\" shall mean Licensor and any individual or Legal Entity\\n      on behalf of whom a Contribution has been received by Licensor and\\n      subsequently incorporated within the Work.\\n\\n   2. Grant of Copyright License. Subject to the terms and conditions of\\n      this License, each Contributor hereby grants to You a perpetual,\\n      worldwide, non-exclusive, no-charge, royalty-free, irrevocable\\n      copyright license to reproduce, prepare Derivative Works of,\\n      publicly display, publicly perform, sublicense, and distribute the\\n      Work and such Derivative Works in Source or Object form.\\n\\n   3. Grant of Patent License. Subject to the terms and conditions of\\n      this License, each Contributor hereby grants to You a perpetual,\\n      worldwide, non-exclusive, no-charge, royalty-free, irrevocable\\n      (except as stated in this section) patent license to make, have made,\\n      use, offer to sell, sell, import, and otherwise transfer the Work,\\n      where such license applies only to those patent claims licensable\\n      by such Contributor that are necessarily infringed by their\\n      Contribution(s) alone or by combination of their Contribution(s)\\n      with the Work to which such Contribution(s) was submitted. If You\\n      institute patent litigation against any entity (including a\\n      cross-claim or counterclaim in a lawsuit) alleging that the Work\\n      or a Contribution incorporated within the Work constitutes direct\\n      or contributory patent infringement, then any patent licenses\\n      granted to You under this License for that Work shall terminate\\n      as of the date such litigation is filed.\\n\\n   4. Redistribution. You may reproduce and distribute copies of the\\n      Work or Derivative Works thereof in any medium, with or without\\n      modifications, and in Source or Object form, provided that You\\n      meet the following conditions:\\n\\n      (a) You must give any other recipients of the Work or\\n          Derivative Works a copy of this License; and\\n\\n      (b) You must cause any modified files to carry prominent notices\\n          stating that You changed the files; and\\n\\n      (c) You must retain, in the Source form of any Derivative Works\\n          that You distribute, all copyright, patent, trademark, and\\n          attribution notices from the Source form of the Work,\\n          excluding those notices that do not pertain to any part of\\n          the Derivative Works; and\\n\\n      (d) If the Work includes a \"NOTICE\" text file as part of its\\n          distribution, then any Derivative Works that You distribute must\\n          include a readable copy of the attribution notices contained\\n          within such NOTICE file, excluding those notices that do not\\n          pertain to any part of the Derivative Works, in at least one\\n          of the following places: within a NOTICE text file distributed\\n          as part of the Derivative Works; within the Source form or\\n          documentation, if provided along with the Derivative Works; or,\\n          within a display generated by the Derivative Works, if and\\n          wherever such third-party notices normally appear. The contents\\n          of the NOTICE file are for informational purposes only and\\n          do not modify the License. You may add Your own attribution\\n          notices within Derivative Works that You distribute, alongside\\n          or as an addendum to the NOTICE text from the Work, provided\\n          that such additional attribution notices cannot be construed\\n          as modifying the License.\\n\\n      You may add Your own copyright statement to Your modifications and\\n      may provide additional or different license terms and conditions\\n      for use, reproduction, or distribution of Your modifications, or\\n      for any such Derivative Works as a whole, provided Your use,\\n      reproduction, and distribution of the Work otherwise complies with\\n      the conditions stated in this License.\\n\\n   5. Submission of Contributions. Unless You explicitly state otherwise,\\n      any Contribution intentionally submitted for inclusion in the Work\\n      by You to the Licensor shall be under the terms and conditions of\\n      this License, without any additional terms or conditions.\\n      Notwithstanding the above, nothing herein shall supersede or modify\\n      the terms of any separate license agreement you may have executed\\n      with Licensor regarding such Contributions.\\n\\n   6. Trademarks. This License does not grant permission to use the trade\\n      names, trademarks, service marks, or product names of the Licensor,\\n      except as required for reasonable and customary use in describing the\\n      origin of the Work and reproducing the content of the NOTICE file.\\n\\n   7. Disclaimer of Warranty. Unless required by applicable law or\\n      agreed to in writing, Licensor provides the Work (and each\\n      Contributor provides its Contributions) on an \"AS IS\" BASIS,\\n      WITHOUT WARRANTIES OR CONDITIONS OF ANY KIND, either express or\\n      implied, including, without limitation, any warranties or conditions\\n      of TITLE, NON-INFRINGEMENT, MERCHANTABILITY, or FITNESS FOR A\\n      PARTICULAR PURPOSE. You are solely responsible for determining the\\n      appropriateness of using or redistributing the Work and assume any\\n      risks associated with Your exercise of permissions under this License.\\n\\n   8. Limitation of Liability. In no event and under no legal theory,\\n      whether in tort (including negligence), contract, or otherwise,\\n      unless required by applicable law (such as deliberate and grossly\\n      negligent acts) or agreed to in writing, shall any Contributor be\\n      liable to You for damages, including any direct, indirect, special,\\n      incidental, or consequential damages of any character arising as a\\n      result of this License or out of the use or inability to use the\\n      Work (including but not limited to damages for loss of goodwill,\\n      work stoppage, computer failure or malfunction, or any and all\\n      other commercial damages or losses), even if such Contributor\\n      has been advised of the possibility of such damages.\\n\\n   9. Accepting Warranty or Additional Liability. While redistributing\\n      the Work or Derivative Works thereof, You may choose to offer,\\n      and charge a fee for, acceptance of support, warranty, indemnity,\\n      or other liability obligations and/or rights consistent with this\\n      License. However, in accepting such obligations, You may act only\\n      on Your own behalf and on Your sole responsibility, not on behalf\\n      of any other Contributor, and only if You agree to indemnify,\\n      defend, and hold each Contributor harmless for any liability\\n      incurred by, or claims asserted against, such Contributor by reason\\n      of your accepting any such warranty or additional liability.\\n\\n   END OF TERMS AND CONDITIONS\\n\\n   APPENDIX: How to apply the Apache License to your work.\\n\\n      To apply the Apache License to your work, attach the following\\n      boilerplate notice, with the fields enclosed by brackets \"[]\"\\n      replaced with your own identifying information. (Don\\'t include\\n      the brackets!)  The text should be enclosed in the appropriate\\n      comment syntax for the file format. We also recommend that a\\n      file or class name and description of purpose be included on the\\n      same \"printed page\" as the copyright notice for easier\\n      identification within third-party archives.\\n   Copyright 2024 Alibaba Cloud\\n   Licensed under the Apache License, Version 2.0 (the \"License\");\\n   you may not use this file except in compliance with the License.\\n   You may obtain a copy of the License at\\n       http://www.apache.org/licenses/LICENSE-2.0\\n   Unless required by applicable law or agreed to in writing, software\\n   distributed under the License is distributed on an \"AS IS\" BASIS,\\n   WITHOUT WARRANTIES OR CONDITIONS OF ANY KIND, either express or implied.\\n   See the License for the specific language governing permissions and\\n   limitations under the License.' details=ModelDetails(parent_model='', format='gguf', family='qwen3', families=['qwen3'], parameter_size='2.0B', quantization_level='Q4_K_M') modelinfo={'general.architecture': 'qwen3', 'general.basename': 'Qwen3', 'general.file_type': 15, 'general.parameter_count': 2031739904, 'general.quantization_version': 2, 'general.size_label': '1.7B', 'general.type': 'model', 'qwen3.attention.head_count': 16, 'qwen3.attention.head_count_kv': 8, 'qwen3.attention.key_length': 128, 'qwen3.attention.layer_norm_rms_epsilon': 1e-06, 'qwen3.attention.value_length': 128, 'qwen3.block_count': 28, 'qwen3.context_length': 40960, 'qwen3.embedding_length': 2048, 'qwen3.feed_forward_length': 6144, 'qwen3.rope.freq_base': 1000000, 'tokenizer.ggml.add_bos_token': False, 'tokenizer.ggml.bos_token_id': 151643, 'tokenizer.ggml.eos_token_id': 151645, 'tokenizer.ggml.merges': None, 'tokenizer.ggml.model': 'gpt2', 'tokenizer.ggml.padding_token_id': 151643, 'tokenizer.ggml.pre': 'qwen2', 'tokenizer.ggml.token_type': None, 'tokenizer.ggml.tokens': None} parameters='repeat_penalty                 1\\nstop                           \"<|im_start|>\"\\nstop                           \"<|im_end|>\"\\ntemperature                    0.6\\ntop_k                          20\\ntop_p                          0.95'\n",
      "Template: {{- if .Messages }}\n",
      "{{- if or .System .Tools }}<|im_start|>system\n",
      "{{- if .System }}\n",
      "{{ .System }}\n",
      "{{- end }}\n",
      "{{- if .Tools }}\n",
      "\n",
      "# Tools\n",
      "\n",
      "You may call one or more functions to assist with the user query.\n",
      "\n",
      "You are provided with function signatures within <tools></tools> XML tags:\n",
      "<tools>\n",
      "{{- range .Tools }}\n",
      "{\"type\": \"function\", \"function\": {{ .Function }}}\n",
      "{{- end }}\n",
      "</tools>\n",
      "\n",
      "For each function call, return a json object with function name and arguments within <tool_call></tool_call> XML tags:\n",
      "<tool_call>\n",
      "{\"name\": <function-name>, \"arguments\": <args-json-object>}\n",
      "</tool_call>\n",
      "{{- end }}<|im_end|>\n",
      "{{ end }}\n",
      "{{- range $i, $_ := .Messages }}\n",
      "{{- $last := eq (len (slice $.Messages $i)) 1 -}}\n",
      "{{- if eq .Role \"user\" }}<|im_start|>user\n",
      "{{ .Content }}<|im_end|>\n",
      "{{ else if eq .Role \"assistant\" }}<|im_start|>assistant\n",
      "{{ if .Content }}{{ .Content }}\n",
      "{{- else if .ToolCalls }}<tool_call>\n",
      "{{ range .ToolCalls }}{\"name\": \"{{ .Function.Name }}\", \"arguments\": {{ .Function.Arguments }}}\n",
      "{{ end }}</tool_call>\n",
      "{{- end }}{{ if not $last }}<|im_end|>\n",
      "{{ end }}\n",
      "{{- else if eq .Role \"tool\" }}<|im_start|>user\n",
      "<tool_response>\n",
      "{{ .Content }}\n",
      "</tool_response><|im_end|>\n",
      "{{ end }}\n",
      "{{- if and (ne .Role \"assistant\") $last }}<|im_start|>assistant\n",
      "{{ end }}\n",
      "{{- end }}\n",
      "{{- else }}\n",
      "{{- if .System }}<|im_start|>system\n",
      "{{ .System }}<|im_end|>\n",
      "{{ end }}{{ if .Prompt }}<|im_start|>user\n",
      "{{ .Prompt }}<|im_end|>\n",
      "{{ end }}<|im_start|>assistant\n",
      "{{ end }}{{ .Response }}{{ if .Response }}<|im_end|>{{ end }}\n",
      "Parameters: repeat_penalty                 1\n",
      "stop                           \"<|im_start|>\"\n",
      "stop                           \"<|im_end|>\"\n",
      "temperature                    0.6\n",
      "top_k                          20\n",
      "top_p                          0.95\n",
      "Details: parent_model='' format='gguf' family='qwen3' families=['qwen3'] parameter_size='2.0B' quantization_level='Q4_K_M'\n"
     ]
    }
   ],
   "source": [
    "# Check model manifest and tagging for qwen3:1.7b\n",
    "async def check_model_manifest():\n",
    "    try:\n",
    "        # Get model manifest\n",
    "        manifest = await client.show('qwen3:1.7b')\n",
    "        print(\"\\nModel Manifest:\")\n",
    "        print(f\"Model: {manifest}\")\n",
    "        print(f\"Template: {manifest['template']}\")\n",
    "        print(f\"Parameters: {manifest['parameters']}\")\n",
    "        print(f\"Details: {manifest['details']}\")\n",
    "            \n",
    "    except Exception as e:\n",
    "        print(f\"Error checking model manifest: {str(e)}\")\n",
    "\n",
    "# Run the check\n",
    "await check_model_manifest()\n"
   ]
  },
  {
   "cell_type": "code",
   "execution_count": 23,
   "metadata": {},
   "outputs": [
    {
     "name": "stdout",
     "output_type": "stream",
     "text": [
      "Prompt: What is three plus one?\n",
      "Calling function: add_two_numbers\n",
      "Arguments: {'a': 3, 'b': 1}\n",
      "Function output: 4\n",
      "Final response: <think>\n",
      "Okay, the user asked \"What is three plus one?\" So I need to calculate 3 + 1. Let me think. Three plus one is straightforward. The answer should be 4. I should check if there's any trick or special case, but since it's a simple addition, there's nothing to worry about. The previous response from the assistant was {\"name\": \"add_two_numbers\", \"arguments\": {\"a\":3,\"b\":1}}, which makes sense. The result was 4, so the final answer is 4. I need to present this in a clear and concise manner.\n",
      "</think>\n",
      "\n",
      "The result of three plus one is **4**.\n"
     ]
    }
   ],
   "source": [
    "from ollama import ChatResponse\n",
    "\n",
    "\n",
    "def add_two_numbers(a: int, b: int) -> int:\n",
    "  \"\"\"\n",
    "  Add two numbers\n",
    "\n",
    "  Args:\n",
    "    a (int): The first number\n",
    "    b (int): The second number\n",
    "\n",
    "  Returns:\n",
    "    int: The sum of the two numbers\n",
    "  \"\"\"\n",
    "  return a + b\n",
    "\n",
    "\n",
    "def subtract_two_numbers(a: int, b: int) -> int:\n",
    "  \"\"\"\n",
    "  Subtract two numbers\n",
    "  \"\"\"\n",
    "  return a - b\n",
    "\n",
    "\n",
    "# Tools can still be manually defined and passed into chat\n",
    "subtract_two_numbers_tool = {\n",
    "  'type': 'function',\n",
    "  'function': {\n",
    "    'name': 'subtract_two_numbers',\n",
    "    'description': 'Subtract two numbers',\n",
    "    'parameters': {\n",
    "      'type': 'object',\n",
    "      'required': ['a', 'b'],\n",
    "      'properties': {\n",
    "        'a': {'type': 'integer', 'description': 'The first number'},\n",
    "        'b': {'type': 'integer', 'description': 'The second number'},\n",
    "      },\n",
    "    },\n",
    "  },\n",
    "}\n",
    "\n",
    "messages = [{'role': 'user', 'content': 'What is three plus one?'}]\n",
    "print('Prompt:', messages[0]['content'])\n",
    "\n",
    "available_functions = {\n",
    "  'add_two_numbers': add_two_numbers,\n",
    "  'subtract_two_numbers': subtract_two_numbers,\n",
    "}\n",
    "\n",
    "\n",
    "client = ollama.AsyncClient()\n",
    "\n",
    "response: ChatResponse = await client.chat(\n",
    "  'qwen3:1.7b',\n",
    "  messages=messages,\n",
    "  tools=[add_two_numbers, subtract_two_numbers_tool],\n",
    ")\n",
    "\n",
    "if response.message.tool_calls:\n",
    "  # There may be multiple tool calls in the response\n",
    "  for tool in response.message.tool_calls:\n",
    "    # Ensure the function is available, and then call it\n",
    "    if function_to_call := available_functions.get(tool.function.name):\n",
    "      print('Calling function:', tool.function.name)\n",
    "      print('Arguments:', tool.function.arguments)\n",
    "      output = function_to_call(**tool.function.arguments)\n",
    "      print('Function output:', output)\n",
    "    else:\n",
    "      print('Function', tool.function.name, 'not found')\n",
    "\n",
    "# Only needed to chat with the model using the tool call results\n",
    "if response.message.tool_calls:\n",
    "  # Add the function response to messages for the model to use\n",
    "  messages.append(response.message)\n",
    "  messages.append({'role': 'tool', 'content': str(output), 'name': tool.function.name})\n",
    "\n",
    "  # Get final response from model with function outputs\n",
    "  final_response = await client.chat('qwen3:1.7b', messages=messages)\n",
    "  print('Final response:', final_response.message.content)\n",
    "\n",
    "else:\n",
    "  print('No tool calls returned from model')"
   ]
  },
  {
   "cell_type": "markdown",
   "metadata": {},
   "source": [
    "Multi Model"
   ]
  },
  {
   "cell_type": "code",
   "execution_count": 26,
   "metadata": {},
   "outputs": [
    {
     "name": "stdout",
     "output_type": "stream",
     "text": [
      "Model pull status: success\n"
     ]
    }
   ],
   "source": [
    "response = await client.pull('llama3.2-vision:latest')\n",
    "print(f\"Model pull status: {response['status']}\")"
   ]
  },
  {
   "cell_type": "code",
   "execution_count": 32,
   "metadata": {},
   "outputs": [],
   "source": [
    "import base64\n",
    "from ollama import chat\n",
    "\n",
    "from pathlib import Path\n",
    "\n",
    "# Pass in the path to the image\n",
    "path = \"/Users/admin/5nb_gifts/gifts/ZEN/working_docs/Product/master_data/hazops/Hazop.png\"\n",
    "\n"
   ]
  },
  {
   "cell_type": "code",
   "execution_count": 33,
   "metadata": {},
   "outputs": [
    {
     "name": "stdout",
     "output_type": "stream",
     "text": [
      "\u001b[0;31mType:\u001b[0m        str\n",
      "\u001b[0;31mString form:\u001b[0m iVBORw0KGgoAAAANSUhEUgAAC1YAAAeqCAYAAADRgAFfAAAMS2lDQ1BJQ0MgUHJvZmlsZQAASImVVwdYU8kWnltSIQQIREBK6 <...> BEAiBEAiBEAiBEAiBEAiBEAiBEAiBEAiBEAiBEAiBEAiBEAiBEAiBEAiBEAiBEAiBuwj8P8pVxLZfxAU7AAAAAElFTkSuQmCC\n",
      "\u001b[0;31mLength:\u001b[0m      1516592\n",
      "\u001b[0;31mDocstring:\u001b[0m  \n",
      "str(object='') -> str\n",
      "str(bytes_or_buffer[, encoding[, errors]]) -> str\n",
      "\n",
      "Create a new string object from the given object. If encoding or\n",
      "errors is specified, then the object must expose a data buffer\n",
      "that will be decoded using the given encoding and error handler.\n",
      "Otherwise, returns the result of object.__str__() (if defined)\n",
      "or repr(object).\n",
      "encoding defaults to sys.getdefaultencoding().\n",
      "errors defaults to 'strict'."
     ]
    }
   ],
   "source": [
    "# Pass in the path to the image\n",
    "path = \"/Users/admin/5nb_gifts/gifts/ZEN/working_docs/Product/master_data/hazops/Hazop.png\"\n",
    "\n",
    "# You can also pass in base64 encoded image data\n",
    "img = base64.b64encode(Path(path).read_bytes()).decode()\n",
    "# or the raw bytes\n",
    "# img = Path(path).read_bytes()\n",
    "?img"
   ]
  },
  {
   "cell_type": "code",
   "execution_count": null,
   "metadata": {},
   "outputs": [],
   "source": [
    "import ollama\n",
    "from pathlib import Path\n",
    "import asyncio\n",
    "\n",
    "# Path to your image\n",
    "image_path = \"/Users/admin/5nb_gifts/gifts/ZEN/working_docs/Product/master_data/hazops/Hazop.png\"\n",
    "\n",
    "# Read the image as bytes\n",
    "img_bytes = Path(image_path).read_bytes()\n",
    "\n",
    "# Use the async client for vision models\n",
    "client = ollama.AsyncClient()\n",
    "\n",
    "async def run_vision():\n",
    "    try:\n",
    "        response = await client.chat(\n",
    "            model='llama3.2-vision:latest',\n",
    "            messages=[\n",
    "                {\n",
    "                    'role': 'user',\n",
    "                    'content': 'What is in this image? Be concise.',\n",
    "                    'images': [img_bytes],  # Pass bytes, not path\n",
    "                }\n",
    "            ]\n",
    "        )\n",
    "        print(response.message.content)\n",
    "    except Exception as e:\n",
    "        print(\"Error:\", e)\n",
    "\n",
    "await run_vision()\n"
   ]
  },
  {
   "cell_type": "code",
   "execution_count": null,
   "metadata": {},
   "outputs": [],
   "source": [
    "print(response.message.content)"
   ]
  },
  {
   "cell_type": "code",
   "execution_count": null,
   "metadata": {},
   "outputs": [],
   "source": []
  }
 ],
 "metadata": {
  "kernelspec": {
   "display_name": "venv",
   "language": "python",
   "name": "python3"
  },
  "language_info": {
   "codemirror_mode": {
    "name": "ipython",
    "version": 3
   },
   "file_extension": ".py",
   "mimetype": "text/x-python",
   "name": "python",
   "nbconvert_exporter": "python",
   "pygments_lexer": "ipython3",
   "version": "3.10.16"
  }
 },
 "nbformat": 4,
 "nbformat_minor": 2
}
